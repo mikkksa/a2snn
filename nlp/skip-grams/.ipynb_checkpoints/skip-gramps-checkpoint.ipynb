{
 "cells": [
  {
   "cell_type": "markdown",
   "id": "16d12caa-919d-4d0c-ba17-9fcc077c330e",
   "metadata": {},
   "source": [
    "## ANN skip-gram"
   ]
  },
  {
   "cell_type": "code",
   "execution_count": 1,
   "id": "8f6da12a-593b-4f7b-9fe3-35fa25d8694c",
   "metadata": {
    "tags": []
   },
   "outputs": [
    {
     "name": "stdout",
     "output_type": "stream",
     "text": [
      "[(['forty', 'When'], 'winters'), (['winters', 'forty'], 'shall'), (['shall', 'winters'], 'besiege')]\n"
     ]
    },
    {
     "name": "stderr",
     "output_type": "stream",
     "text": [
      "/home/mike/.local/lib/python3.9/site-packages/tqdm/auto.py:21: TqdmWarning: IProgress not found. Please update jupyter and ipywidgets. See https://ipywidgets.readthedocs.io/en/stable/user_install.html\n",
      "  from .autonotebook import tqdm as notebook_tqdm\n"
     ]
    }
   ],
   "source": [
    "import torch\n",
    "import torch.nn as nn\n",
    "import torch.nn.functional as F\n",
    "import torch.optim as optim\n",
    "\n",
    "torch.manual_seed(1)\n",
    "\n",
    "CONTEXT_SIZE = 2\n",
    "EMBEDDING_DIM = 10\n",
    "# We will use Shakespeare Sonnet 2\n",
    "test_sentence = \"\"\"When forty winters shall besiege thy brow,\n",
    "And dig deep trenches in thy beauty's field,\n",
    "Thy youth's proud livery so gazed on now,\n",
    "Will be a totter'd weed of small worth held:\n",
    "Then being asked, where all thy beauty lies,\n",
    "Where all the treasure of thy lusty days;\n",
    "To say, within thine own deep sunken eyes,\n",
    "Were an all-eating shame, and thriftless praise.\n",
    "How much more praise deserv'd thy beauty's use,\n",
    "If thou couldst answer 'This fair child of mine\n",
    "Shall sum my count, and make my old excuse,'\n",
    "Proving his beauty by succession thine!\n",
    "This were to be new made when thou art old,\n",
    "And see thy blood warm when thou feel'st it cold.\n",
    "When forty winters shall besiege thy brow\n",
    "When forty winters shall besiege thy brow\n",
    "When forty winters shall besiege thy brow\n",
    "When forty winters shall besiege thy brow\n",
    "When forty winters shall besiege thy brow\n",
    "When forty winters shall besiege thy brow\n",
    "When forty winters shall besiege thy brow\"\"\".split()\n",
    "# we should tokenize the input, but we will ignore that for now\n",
    "# build a list of tuples.\n",
    "# Each tuple is ([ word_i-CONTEXT_SIZE, ..., word_i-1 ], target word)\n",
    "ngrams = [\n",
    "    (\n",
    "        [test_sentence[i - j - 1] for j in range(CONTEXT_SIZE)],\n",
    "        test_sentence[i]\n",
    "    )\n",
    "    for i in range(CONTEXT_SIZE, len(test_sentence))\n",
    "]\n",
    "# Print the first 3, just so you can see what they look like.\n",
    "print(f'ngrams: {ngrams[:3]}')\n",
    "\n",
    "vocab = list(set(test_sentence))\n",
    "word_to_ix = {word: i for i, word in enumerate(vocab)}\n",
    "\n",
    "\n",
    "class NGramLanguageModeler(nn.Module):\n",
    "\n",
    "    def __init__(self, vocab_size, embedding_dim, context_size):\n",
    "        super(NGramLanguageModeler, self).__init__()\n",
    "        self.embeddings = nn.Embedding(vocab_size, embedding_dim)\n",
    "        self.linear1 = nn.Linear(context_size * embedding_dim, 128)\n",
    "        self.linear2 = nn.Linear(128, vocab_size)\n",
    "\n",
    "    def forward(self, inputs):\n",
    "        embeds = self.embeddings(inputs).view((1, -1))\n",
    "        out = F.relu(self.linear1(embeds))\n",
    "        out = self.linear2(out)\n",
    "        log_probs = F.log_softmax(out, dim=1)\n",
    "        return log_probs\n",
    "\n",
    "\n",
    "losses = []\n",
    "loss_function = nn.NLLLoss()\n",
    "model = NGramLanguageModeler(len(vocab), EMBEDDING_DIM, CONTEXT_SIZE)\n",
    "optimizer = optim.Adam(model.parameters(), lr=0.001)"
   ]
  },
  {
   "cell_type": "code",
   "execution_count": 2,
   "id": "62eeb507-249f-4409-bd9f-eb2573a3a0e6",
   "metadata": {
    "tags": []
   },
   "outputs": [],
   "source": [
    "def batch_accuracy_ann(net):\n",
    "    ins = []\n",
    "\n",
    "    for i in range(len(ngrams)):\n",
    "\n",
    "        cxt, tgt = ngrams[i]\n",
    "        context_idxs = torch.tensor([word_to_ix[w] for w in cxt], dtype=torch.long)\n",
    "        net.zero_grad()\n",
    "        predict = net(context_idxs)\n",
    "        argmax = torch.topk(predict, 5).indices[0]\n",
    "\n",
    "        result = []\n",
    "        for arg in argmax:\n",
    "            max_p = predict[0][arg]\n",
    "            result.append(vocab[arg])\n",
    "\n",
    "        ins.append(tgt in result)\n",
    "\n",
    "    return int(len(list(filter(bool, ins))) * 1.0 / len(ins) * 100)"
   ]
  },
  {
   "cell_type": "code",
   "execution_count": 3,
   "id": "02759ac0-4f40-462a-b20b-a516979ac543",
   "metadata": {
    "tags": []
   },
   "outputs": [
    {
     "name": "stdout",
     "output_type": "stream",
     "text": [
      "ANN accuracy on epoch 0=74%\n",
      "ANN accuracy on epoch 1=98%\n",
      "ANN accuracy on epoch 2=100%\n",
      "ANN accuracy on epoch 3=100%\n",
      "ANN accuracy on epoch 4=100%\n",
      "ANN accuracy on epoch 5=100%\n",
      "ANN accuracy on epoch 6=100%\n",
      "ANN accuracy on epoch 7=100%\n",
      "ANN accuracy on epoch 8=100%\n",
      "ANN accuracy on epoch 9=100%\n",
      "time=1.16 seconds\n",
      "\n",
      "losses: [695.39275598526, 427.4318561255932, 260.76478984951973, 143.40969083458185, 74.51300222612917, 43.89432185329497, 30.142071495763958, 22.988767199683934, 18.79682902432978, 16.135167504660785]\n",
      "\n",
      "`beauty` embedding:\n",
      "tensor([ 1.1615, -0.5053,  1.3545, -0.9844,  1.7501, -0.1604,  0.0733,  0.9104,\n",
      "         0.5459,  0.9300], grad_fn=<SelectBackward0>)\n"
     ]
    }
   ],
   "source": [
    "from time import time\n",
    "\n",
    "start = time()\n",
    "for epoch in range(10):\n",
    "    total_loss = 0\n",
    "    for context, target in ngrams:\n",
    "\n",
    "        # Step 1. Prepare the inputs to be passed to the model (i.e, turn the words\n",
    "        # into integer indices and wrap them in tensors)\n",
    "        context_idxs = torch.tensor([word_to_ix[w] for w in context], dtype=torch.long)\n",
    "\n",
    "        # Step 2. Recall that torch *accumulates* gradients. Before passing in a\n",
    "        # new instance, you need to zero out the gradients from the old\n",
    "        # instance\n",
    "        model.zero_grad()\n",
    "\n",
    "        # Step 3. Run the forward pass, getting log probabilities over next\n",
    "        # words\n",
    "        log_probs = model(context_idxs)\n",
    "\n",
    "        # Step 4. Compute your loss function. (Again, Torch wants the target\n",
    "        # word wrapped in a tensor)\n",
    "        loss = loss_function(log_probs, torch.tensor([word_to_ix[target]], dtype=torch.long))\n",
    "\n",
    "        # Step 5. Do the backward pass and update the gradient\n",
    "        loss.backward()\n",
    "        optimizer.step()\n",
    "\n",
    "        # Get the Python number from a 1-element Tensor by calling tensor.item()\n",
    "        total_loss += loss.item()\n",
    "    losses.append(total_loss)\n",
    "    acc = batch_accuracy_ann(model)\n",
    "    print(f'ANN accuracy on epoch {epoch}={acc}%')\n",
    "stop = time()\n",
    "\n",
    "print(f'time={(stop-start):.2f} seconds\\n')\n",
    "print(f'losses: {losses}\\n')  # The loss decreased every iteration over the training data!\n",
    "\n",
    "# To get the embedding of a particular word, e.g. \"beauty\"\n",
    "print('`beauty` embedding:')\n",
    "print(model.embeddings.weight[word_to_ix[\"beauty\"]])"
   ]
  },
  {
   "cell_type": "markdown",
   "id": "72c3aa2d-b9d6-43d9-a2e2-7cba6f4af443",
   "metadata": {
    "tags": []
   },
   "source": [
    "## SNN skip-gram"
   ]
  },
  {
   "cell_type": "code",
   "execution_count": 4,
   "id": "4e465e4a-e54c-43ca-954b-a34212e0f66e",
   "metadata": {
    "tags": []
   },
   "outputs": [],
   "source": [
    "import snntorch as snn\n",
    "from snntorch import surrogate\n",
    "from snntorch import backprop\n",
    "from snntorch import functional as SF\n",
    "from snntorch import utils\n",
    "from snntorch import spikeplot as splt\n",
    "\n",
    "import matplotlib.pyplot as plt"
   ]
  },
  {
   "cell_type": "code",
   "execution_count": 5,
   "id": "8f3b39ba-3c2f-429c-b685-aa99b866c58e",
   "metadata": {
    "tags": []
   },
   "outputs": [],
   "source": [
    "spike_grad = surrogate.fast_sigmoid(slope=25)\n",
    "beta = 0.5\n",
    "\n",
    "lif1 = snn.Leaky(beta=beta, spike_grad=spike_grad)"
   ]
  },
  {
   "cell_type": "code",
   "execution_count": 6,
   "id": "215ed1c4-6886-43ff-aebd-f42d2e00c870",
   "metadata": {
    "tags": []
   },
   "outputs": [],
   "source": [
    "# neuron and simulation parameters\n",
    "spike_grad = surrogate.fast_sigmoid(slope=25)\n",
    "beta = 0.5\n",
    "num_steps = 50"
   ]
  },
  {
   "cell_type": "code",
   "execution_count": 7,
   "id": "0100ec45-09bd-4642-ac8c-b5067726e762",
   "metadata": {
    "tags": []
   },
   "outputs": [],
   "source": [
    "# Define Network\n",
    "class Net(nn.Module,):\n",
    "    def __init__(self, vocab_size, embedding_dim, context_size):\n",
    "        super().__init__()\n",
    "\n",
    "        # Initialize layers\n",
    "        self.embeddings = nn.Embedding(vocab_size, embedding_dim)\n",
    "        self.lif1 = snn.Leaky(beta=beta, spike_grad=spike_grad)\n",
    "        self.linear1 = nn.Linear(context_size * embedding_dim, 128)\n",
    "        self.lif2 = snn.Leaky(beta=beta, spike_grad=spike_grad)\n",
    "        self.linear2 = nn.Linear(128, vocab_size)\n",
    "        self.lif3 = snn.Leaky(beta=beta, spike_grad=spike_grad)\n",
    "\n",
    "    def forward(self, inputs):\n",
    "\n",
    "        # Initialize hidden states and outputs at t=0\n",
    "        mem1 = self.lif1.init_leaky()\n",
    "        mem2 = self.lif2.init_leaky()\n",
    "        mem3 = self.lif3.init_leaky()\n",
    "\n",
    "        cur1 = self.embeddings(inputs).view((1, -1))\n",
    "        spk1, mem1 = self.lif1(cur1, mem1)\n",
    "\n",
    "        cur2 = F.relu(self.linear1(cur1))\n",
    "        spk2, mem2 = self.lif2(cur2, mem2)\n",
    "\n",
    "        cur3 = self.linear2(cur2)\n",
    "        spk3, mem3 = self.lif3(cur3, mem3)\n",
    "\n",
    "        return spk3, mem3"
   ]
  },
  {
   "cell_type": "code",
   "execution_count": 8,
   "id": "d23d2687-eb86-4a9a-b16e-c78d3dc355eb",
   "metadata": {
    "tags": []
   },
   "outputs": [],
   "source": [
    "def forward_pass(net, num_steps, data):\n",
    "    mem_rec = []\n",
    "    spk_rec = []\n",
    "    utils.reset(net)  # resets hidden states for all LIF neurons in net\n",
    "\n",
    "    for step in range(num_steps):\n",
    "        spk_out, mem_out = net(data)\n",
    "        spk_rec.append(spk_out)\n",
    "        mem_rec.append(mem_out)\n",
    "\n",
    "    return torch.stack(spk_rec), torch.stack(mem_rec)"
   ]
  },
  {
   "cell_type": "code",
   "execution_count": 9,
   "id": "a74eb244-4f08-48ba-a5ab-a07389eb9837",
   "metadata": {
    "tags": []
   },
   "outputs": [],
   "source": [
    "def batch_accuracy(net, num_steps):\n",
    "    ins = []\n",
    "    total = 0\n",
    "    acc = 0\n",
    "    net.eval()\n",
    "\n",
    "    for i in range(len(ngrams)):\n",
    "\n",
    "        cxt, tgt = ngrams[i]\n",
    "\n",
    "        context_idxs = torch.tensor([word_to_ix[w] for w in cxt], dtype=torch.long)\n",
    "        net.zero_grad()\n",
    "\n",
    "        spk_rec, _ = forward_pass(net, num_steps, context_idxs)\n",
    "        \n",
    "        acc += SF.accuracy_rate(spk_rec, torch.tensor([word_to_ix[tgt]], dtype=torch.long)) * spk_rec.size(1)\n",
    "        total += spk_rec.size(1)\n",
    "\n",
    "    return acc/total"
   ]
  },
  {
   "cell_type": "code",
   "execution_count": 10,
   "id": "963475de-1ce9-42ef-a14f-a62f9ae09508",
   "metadata": {
    "tags": []
   },
   "outputs": [
    {
     "name": "stdout",
     "output_type": "stream",
     "text": [
      "SNN accuracy on epoch 0=18.52%\n",
      "SNN accuracy on epoch 1=37.65%\n",
      "SNN accuracy on epoch 2=46.91%\n",
      "SNN accuracy on epoch 3=48.77%\n",
      "SNN accuracy on epoch 4=70.37%\n",
      "SNN accuracy on epoch 5=74.07%\n",
      "SNN accuracy on epoch 6=71.60%\n",
      "SNN accuracy on epoch 7=75.93%\n",
      "SNN accuracy on epoch 8=76.54%\n",
      "SNN accuracy on epoch 9=80.86%\n",
      "SNN accuracy on epoch 10=83.33%\n",
      "SNN accuracy on epoch 11=83.33%\n",
      "SNN accuracy on epoch 12=83.95%\n",
      "SNN accuracy on epoch 13=84.57%\n",
      "SNN accuracy on epoch 14=85.80%\n",
      "SNN accuracy on epoch 15=90.74%\n",
      "SNN accuracy on epoch 16=90.74%\n",
      "SNN accuracy on epoch 17=90.74%\n",
      "SNN accuracy on epoch 18=90.74%\n",
      "SNN accuracy on epoch 19=90.74%\n",
      "time=184.02 seconds\n"
     ]
    }
   ],
   "source": [
    "net = Net(len(vocab), EMBEDDING_DIM, CONTEXT_SIZE)\n",
    "\n",
    "optimizer = torch.optim.Adam(net.parameters(), lr=1e-2, betas=(0.9, 0.999))\n",
    "loss_fn = SF.ce_rate_loss()\n",
    "num_epochs = 20\n",
    "loss_hist = []\n",
    "test_acc_hist = []\n",
    "counter = 0\n",
    "\n",
    "start = time()\n",
    "# Outer training loop\n",
    "for epoch in range(num_epochs):\n",
    "\n",
    "    # Training loop\n",
    "    for data, targets in ngrams:\n",
    "        # data = data.to(device)\n",
    "        # targets = targets.to(device)\n",
    "        \n",
    "        data = torch.tensor([word_to_ix[w] for w in data], dtype=torch.long)\n",
    "\n",
    "        # forward pass\n",
    "        net.train()\n",
    "        spk_rec, _ = forward_pass(net, num_steps, data)\n",
    "\n",
    "        # initialize the loss & sum over time\n",
    "        loss_val = loss_fn(spk_rec, torch.tensor([word_to_ix[targets]], dtype=torch.long))\n",
    "        \n",
    "        \n",
    "        # print(loss_val)\n",
    "\n",
    "        # Gradient calculation + weight update\n",
    "        optimizer.zero_grad()\n",
    "        loss_val.backward()\n",
    "        optimizer.step()\n",
    "\n",
    "        # Store loss history for future plotting\n",
    "        loss_hist.append(loss_val.item())\n",
    "\n",
    "        # Test set\n",
    "        if counter % 50 == 0:\n",
    "            with torch.no_grad():\n",
    "                net.eval()\n",
    "\n",
    "        counter += 1\n",
    "    acc = batch_accuracy(net, num_steps)\n",
    "    test_acc_hist.append(acc.item())\n",
    "    print(f'SNN accuracy on epoch {epoch}={acc*100:.2f}%')\n",
    "stop = time()\n",
    "print(f'time={(stop-start):.2f} seconds')"
   ]
  },
  {
   "cell_type": "markdown",
   "id": "607188be-a69c-43d9-a2d5-3a7fc703a730",
   "metadata": {},
   "source": [
    "## SNN Testing"
   ]
  },
  {
   "cell_type": "code",
   "execution_count": 11,
   "id": "e73e9be7-e315-4d82-a72a-8de1fec6400d",
   "metadata": {
    "tags": []
   },
   "outputs": [],
   "source": [
    "# spk_rec, mem_rec = forward_pass(net, num_steps, data)\n",
    "test_ngram = 1\n",
    "spk_rec, mem_rec = forward_pass(net, num_steps, torch.tensor([word_to_ix[w] for w in ngrams[test_ngram][0]], dtype=torch.long))"
   ]
  },
  {
   "cell_type": "code",
   "execution_count": 12,
   "id": "5c191c1d-c0d8-40df-a341-866afe7b572d",
   "metadata": {
    "tags": []
   },
   "outputs": [
    {
     "name": "stdout",
     "output_type": "stream",
     "text": [
      "guess: shall, actual: shall\n"
     ]
    }
   ],
   "source": [
    "from IPython.display import HTML\n",
    "# from environment import * # For ffmpeg path\n",
    "\n",
    "idx = 0\n",
    "\n",
    "labels=list(vocab)\n",
    "\n",
    "top5 = [spk_rec[:, idx][i].nonzero() for i in range(5)]\n",
    "top5_lens = [len(spk_rec[:, idx][i].nonzero()) for i in range(5)]\n",
    "if set(top5_lens) != {1}:\n",
    "    print('You have bad results, try another `test_ngram`')\n",
    "else:\n",
    "    top5_set = top5[0].item()\n",
    "    guess = top5_set\n",
    "    print(f'guess: {labels[guess]}, actual: {ngrams[test_ngram][1]}')\n",
    "\n",
    "# fig, ax = plt.subplots(facecolor='w', figsize=(12, 7))\n",
    "\n",
    "# Plotting in ffmpeg\n",
    "# plt.rcParams['animation.ffmpeg_path'] = FFMPEG_PATH\n",
    "\n",
    "#  Plot spike count histogram\n",
    "# anim = splt.spike_count(spk_rec[:, idx].detach().cpu(), fig, ax, labels=labels,\n",
    "#                         animate=True, interpolate=4)\n",
    "\n",
    "# HTML(anim.to_html5_video())\n",
    "# anim.save(\"spike_bar.mp4\")"
   ]
  },
  {
   "cell_type": "markdown",
   "id": "919f0722-9027-4c07-b0c7-9afcc921fb57",
   "metadata": {},
   "source": [
    "## Conclusion"
   ]
  },
  {
   "cell_type": "markdown",
   "id": "459be9aa-97ce-499c-9320-0651ef84740f",
   "metadata": {},
   "source": [
    "ANN vs SNN\\\n",
    "Epochs: 10 vs 20\\\n",
    "Accuracy: 100% vs ~85% (FP or FN not investigated) for very short texts\\\n",
    "100% Epoch: 3 vs inf\\\n",
    "Time: 0.55 seconds vs 61 seconds (M1 processor)"
   ]
  },
  {
   "cell_type": "code",
   "execution_count": null,
   "id": "98c4ac9f-e1c7-474d-a11f-7deb97d1a33d",
   "metadata": {},
   "outputs": [],
   "source": []
  }
 ],
 "metadata": {
  "kernelspec": {
   "display_name": "Python 3 (ipykernel)",
   "language": "python",
   "name": "python3"
  },
  "language_info": {
   "codemirror_mode": {
    "name": "ipython",
    "version": 3
   },
   "file_extension": ".py",
   "mimetype": "text/x-python",
   "name": "python",
   "nbconvert_exporter": "python",
   "pygments_lexer": "ipython3",
   "version": "3.9.2"
  }
 },
 "nbformat": 4,
 "nbformat_minor": 5
}
